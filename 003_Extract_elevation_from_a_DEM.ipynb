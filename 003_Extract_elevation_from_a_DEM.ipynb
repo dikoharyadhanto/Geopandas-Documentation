{
  "nbformat": 4,
  "nbformat_minor": 0,
  "metadata": {
    "colab": {
      "name": "003 - Extract elevation from a DEM.ipynb",
      "provenance": [],
      "collapsed_sections": [],
      "authorship_tag": "ABX9TyOwY5+a0cm5C60w3KIdsl6F",
      "include_colab_link": true
    },
    "kernelspec": {
      "name": "python3",
      "display_name": "Python 3"
    },
    "language_info": {
      "name": "python"
    }
  },
  "cells": [
    {
      "cell_type": "markdown",
      "metadata": {
        "id": "view-in-github",
        "colab_type": "text"
      },
      "source": [
        "<a href=\"https://colab.research.google.com/github/dikoharyadhanto/Geopandas-Documentation/blob/main/003_Extract_elevation_from_a_DEM.ipynb\" target=\"_parent\"><img src=\"https://colab.research.google.com/assets/colab-badge.svg\" alt=\"Open In Colab\"/></a>"
      ]
    },
    {
      "cell_type": "code",
      "execution_count": 1,
      "metadata": {
        "colab": {
          "base_uri": "https://localhost:8080/"
        },
        "id": "jVzv-P1j4VjT",
        "outputId": "8946ee78-ac6c-42fc-c116-1519f8d886fb"
      },
      "outputs": [
        {
          "output_type": "stream",
          "name": "stdout",
          "text": [
            "Collecting geopandas\n",
            "  Downloading geopandas-0.10.2-py2.py3-none-any.whl (1.0 MB)\n",
            "\u001b[K     |████████████████████████████████| 1.0 MB 26.7 MB/s \n",
            "\u001b[?25hCollecting pyproj>=2.2.0\n",
            "  Downloading pyproj-3.2.1-cp37-cp37m-manylinux2010_x86_64.whl (6.3 MB)\n",
            "\u001b[K     |████████████████████████████████| 6.3 MB 52.4 MB/s \n",
            "\u001b[?25hRequirement already satisfied: shapely>=1.6 in /usr/local/lib/python3.7/dist-packages (from geopandas) (1.8.1.post1)\n",
            "Collecting fiona>=1.8\n",
            "  Downloading Fiona-1.8.21-cp37-cp37m-manylinux2014_x86_64.whl (16.7 MB)\n",
            "\u001b[K     |████████████████████████████████| 16.7 MB 43.5 MB/s \n",
            "\u001b[?25hRequirement already satisfied: pandas>=0.25.0 in /usr/local/lib/python3.7/dist-packages (from geopandas) (1.3.5)\n",
            "Collecting cligj>=0.5\n",
            "  Downloading cligj-0.7.2-py3-none-any.whl (7.1 kB)\n",
            "Collecting click-plugins>=1.0\n",
            "  Downloading click_plugins-1.1.1-py2.py3-none-any.whl (7.5 kB)\n",
            "Requirement already satisfied: click>=4.0 in /usr/local/lib/python3.7/dist-packages (from fiona>=1.8->geopandas) (7.1.2)\n",
            "Requirement already satisfied: setuptools in /usr/local/lib/python3.7/dist-packages (from fiona>=1.8->geopandas) (57.4.0)\n",
            "Requirement already satisfied: six>=1.7 in /usr/local/lib/python3.7/dist-packages (from fiona>=1.8->geopandas) (1.15.0)\n",
            "Requirement already satisfied: attrs>=17 in /usr/local/lib/python3.7/dist-packages (from fiona>=1.8->geopandas) (21.4.0)\n",
            "Requirement already satisfied: certifi in /usr/local/lib/python3.7/dist-packages (from fiona>=1.8->geopandas) (2021.10.8)\n",
            "Collecting munch\n",
            "  Downloading munch-2.5.0-py2.py3-none-any.whl (10 kB)\n",
            "Requirement already satisfied: numpy>=1.17.3 in /usr/local/lib/python3.7/dist-packages (from pandas>=0.25.0->geopandas) (1.21.6)\n",
            "Requirement already satisfied: python-dateutil>=2.7.3 in /usr/local/lib/python3.7/dist-packages (from pandas>=0.25.0->geopandas) (2.8.2)\n",
            "Requirement already satisfied: pytz>=2017.3 in /usr/local/lib/python3.7/dist-packages (from pandas>=0.25.0->geopandas) (2022.1)\n",
            "Installing collected packages: munch, cligj, click-plugins, pyproj, fiona, geopandas\n",
            "Successfully installed click-plugins-1.1.1 cligj-0.7.2 fiona-1.8.21 geopandas-0.10.2 munch-2.5.0 pyproj-3.2.1\n"
          ]
        }
      ],
      "source": [
        "!pip install geopandas"
      ]
    },
    {
      "cell_type": "code",
      "source": [
        "!pip install rasterio"
      ],
      "metadata": {
        "colab": {
          "base_uri": "https://localhost:8080/"
        },
        "id": "xLBoexWoA_Dc",
        "outputId": "2608a546-cc7b-4968-dd00-e1718390212d"
      },
      "execution_count": 30,
      "outputs": [
        {
          "output_type": "stream",
          "name": "stdout",
          "text": [
            "Collecting rasterio\n",
            "  Downloading rasterio-1.2.10-cp37-cp37m-manylinux1_x86_64.whl (19.3 MB)\n",
            "\u001b[K     |████████████████████████████████| 19.3 MB 1.1 MB/s \n",
            "\u001b[?25hRequirement already satisfied: setuptools in /usr/local/lib/python3.7/dist-packages (from rasterio) (57.4.0)\n",
            "Collecting affine\n",
            "  Downloading affine-2.3.1-py2.py3-none-any.whl (16 kB)\n",
            "Requirement already satisfied: click>=4.0 in /usr/local/lib/python3.7/dist-packages (from rasterio) (7.1.2)\n",
            "Collecting snuggs>=1.4.1\n",
            "  Downloading snuggs-1.4.7-py3-none-any.whl (5.4 kB)\n",
            "Requirement already satisfied: cligj>=0.5 in /usr/local/lib/python3.7/dist-packages (from rasterio) (0.7.2)\n",
            "Requirement already satisfied: click-plugins in /usr/local/lib/python3.7/dist-packages (from rasterio) (1.1.1)\n",
            "Requirement already satisfied: attrs in /usr/local/lib/python3.7/dist-packages (from rasterio) (21.4.0)\n",
            "Requirement already satisfied: numpy in /usr/local/lib/python3.7/dist-packages (from rasterio) (1.21.6)\n",
            "Requirement already satisfied: certifi in /usr/local/lib/python3.7/dist-packages (from rasterio) (2021.10.8)\n",
            "Requirement already satisfied: pyparsing>=2.1.6 in /usr/local/lib/python3.7/dist-packages (from snuggs>=1.4.1->rasterio) (3.0.8)\n",
            "Installing collected packages: snuggs, affine, rasterio\n",
            "Successfully installed affine-2.3.1 rasterio-1.2.10 snuggs-1.4.7\n"
          ]
        }
      ]
    },
    {
      "cell_type": "code",
      "source": [
        "import geopandas as gpd\n",
        "import pandas as pd\n",
        "import numpy as np"
      ],
      "metadata": {
        "id": "ZBGL2FSx4sRM"
      },
      "execution_count": 3,
      "outputs": []
    },
    {
      "cell_type": "code",
      "source": [
        "#Mount Google Drive\n",
        "from google.colab import drive\n",
        "drive.mount('/content/drive')"
      ],
      "metadata": {
        "colab": {
          "base_uri": "https://localhost:8080/"
        },
        "id": "rHhImdub4wp-",
        "outputId": "340f328c-c76d-4e47-9456-d792eca7976f"
      },
      "execution_count": 4,
      "outputs": [
        {
          "output_type": "stream",
          "name": "stdout",
          "text": [
            "Mounted at /content/drive\n"
          ]
        }
      ]
    },
    {
      "cell_type": "code",
      "source": [
        "#Extract Dataset ZIP\n",
        "import zipfile\n",
        "\n",
        "zip_ref = zipfile.ZipFile(\"/content/drive/MyDrive/Data/Spatial/Extract elevation from a DEM.zip\", 'r')\n",
        "zip_ref.extractall(\"/tmp/Extract_DEM\")\n",
        "zip_ref.close()"
      ],
      "metadata": {
        "id": "AvDDA3LW44at"
      },
      "execution_count": 5,
      "outputs": []
    },
    {
      "cell_type": "code",
      "source": [
        "url = '/tmp/Extract_DEM/Extract elevation from a DEM/stations.shp'"
      ],
      "metadata": {
        "id": "CQq9VYLp46O1"
      },
      "execution_count": 6,
      "outputs": []
    },
    {
      "cell_type": "code",
      "source": [
        "#Read attribute table\n",
        "stasiun_gdf = gpd.read_file(url)\n",
        "stasiun_gdf"
      ],
      "metadata": {
        "colab": {
          "base_uri": "https://localhost:8080/",
          "height": 332
        },
        "id": "wf1Ihaoj471Z",
        "outputId": "8bfafde2-dc73-465b-853f-d42344c60800"
      },
      "execution_count": 8,
      "outputs": [
        {
          "output_type": "execute_result",
          "data": {
            "text/plain": [
              "   Id      name                   geometry\n",
              "0   0  station1  POINT (116.66012 6.20102)\n",
              "1   0  station2  POINT (116.86285 6.10965)\n",
              "2   0  station3  POINT (117.12412 6.12821)\n",
              "3   0  station4  POINT (117.29115 6.30524)\n",
              "4   0  station5  POINT (116.91996 6.35664)\n",
              "5   0  station6  POINT (117.03846 6.51511)\n",
              "6   0  station7  POINT (116.85286 6.64931)\n",
              "7   0  station8  POINT (116.68868 6.63646)\n",
              "8   0  station9  POINT (117.28544 6.58078)"
            ],
            "text/html": [
              "\n",
              "  <div id=\"df-97acc67d-11e7-4ff2-b7ce-ce8c6549d76c\">\n",
              "    <div class=\"colab-df-container\">\n",
              "      <div>\n",
              "<style scoped>\n",
              "    .dataframe tbody tr th:only-of-type {\n",
              "        vertical-align: middle;\n",
              "    }\n",
              "\n",
              "    .dataframe tbody tr th {\n",
              "        vertical-align: top;\n",
              "    }\n",
              "\n",
              "    .dataframe thead th {\n",
              "        text-align: right;\n",
              "    }\n",
              "</style>\n",
              "<table border=\"1\" class=\"dataframe\">\n",
              "  <thead>\n",
              "    <tr style=\"text-align: right;\">\n",
              "      <th></th>\n",
              "      <th>Id</th>\n",
              "      <th>name</th>\n",
              "      <th>geometry</th>\n",
              "    </tr>\n",
              "  </thead>\n",
              "  <tbody>\n",
              "    <tr>\n",
              "      <th>0</th>\n",
              "      <td>0</td>\n",
              "      <td>station1</td>\n",
              "      <td>POINT (116.66012 6.20102)</td>\n",
              "    </tr>\n",
              "    <tr>\n",
              "      <th>1</th>\n",
              "      <td>0</td>\n",
              "      <td>station2</td>\n",
              "      <td>POINT (116.86285 6.10965)</td>\n",
              "    </tr>\n",
              "    <tr>\n",
              "      <th>2</th>\n",
              "      <td>0</td>\n",
              "      <td>station3</td>\n",
              "      <td>POINT (117.12412 6.12821)</td>\n",
              "    </tr>\n",
              "    <tr>\n",
              "      <th>3</th>\n",
              "      <td>0</td>\n",
              "      <td>station4</td>\n",
              "      <td>POINT (117.29115 6.30524)</td>\n",
              "    </tr>\n",
              "    <tr>\n",
              "      <th>4</th>\n",
              "      <td>0</td>\n",
              "      <td>station5</td>\n",
              "      <td>POINT (116.91996 6.35664)</td>\n",
              "    </tr>\n",
              "    <tr>\n",
              "      <th>5</th>\n",
              "      <td>0</td>\n",
              "      <td>station6</td>\n",
              "      <td>POINT (117.03846 6.51511)</td>\n",
              "    </tr>\n",
              "    <tr>\n",
              "      <th>6</th>\n",
              "      <td>0</td>\n",
              "      <td>station7</td>\n",
              "      <td>POINT (116.85286 6.64931)</td>\n",
              "    </tr>\n",
              "    <tr>\n",
              "      <th>7</th>\n",
              "      <td>0</td>\n",
              "      <td>station8</td>\n",
              "      <td>POINT (116.68868 6.63646)</td>\n",
              "    </tr>\n",
              "    <tr>\n",
              "      <th>8</th>\n",
              "      <td>0</td>\n",
              "      <td>station9</td>\n",
              "      <td>POINT (117.28544 6.58078)</td>\n",
              "    </tr>\n",
              "  </tbody>\n",
              "</table>\n",
              "</div>\n",
              "      <button class=\"colab-df-convert\" onclick=\"convertToInteractive('df-97acc67d-11e7-4ff2-b7ce-ce8c6549d76c')\"\n",
              "              title=\"Convert this dataframe to an interactive table.\"\n",
              "              style=\"display:none;\">\n",
              "        \n",
              "  <svg xmlns=\"http://www.w3.org/2000/svg\" height=\"24px\"viewBox=\"0 0 24 24\"\n",
              "       width=\"24px\">\n",
              "    <path d=\"M0 0h24v24H0V0z\" fill=\"none\"/>\n",
              "    <path d=\"M18.56 5.44l.94 2.06.94-2.06 2.06-.94-2.06-.94-.94-2.06-.94 2.06-2.06.94zm-11 1L8.5 8.5l.94-2.06 2.06-.94-2.06-.94L8.5 2.5l-.94 2.06-2.06.94zm10 10l.94 2.06.94-2.06 2.06-.94-2.06-.94-.94-2.06-.94 2.06-2.06.94z\"/><path d=\"M17.41 7.96l-1.37-1.37c-.4-.4-.92-.59-1.43-.59-.52 0-1.04.2-1.43.59L10.3 9.45l-7.72 7.72c-.78.78-.78 2.05 0 2.83L4 21.41c.39.39.9.59 1.41.59.51 0 1.02-.2 1.41-.59l7.78-7.78 2.81-2.81c.8-.78.8-2.07 0-2.86zM5.41 20L4 18.59l7.72-7.72 1.47 1.35L5.41 20z\"/>\n",
              "  </svg>\n",
              "      </button>\n",
              "      \n",
              "  <style>\n",
              "    .colab-df-container {\n",
              "      display:flex;\n",
              "      flex-wrap:wrap;\n",
              "      gap: 12px;\n",
              "    }\n",
              "\n",
              "    .colab-df-convert {\n",
              "      background-color: #E8F0FE;\n",
              "      border: none;\n",
              "      border-radius: 50%;\n",
              "      cursor: pointer;\n",
              "      display: none;\n",
              "      fill: #1967D2;\n",
              "      height: 32px;\n",
              "      padding: 0 0 0 0;\n",
              "      width: 32px;\n",
              "    }\n",
              "\n",
              "    .colab-df-convert:hover {\n",
              "      background-color: #E2EBFA;\n",
              "      box-shadow: 0px 1px 2px rgba(60, 64, 67, 0.3), 0px 1px 3px 1px rgba(60, 64, 67, 0.15);\n",
              "      fill: #174EA6;\n",
              "    }\n",
              "\n",
              "    [theme=dark] .colab-df-convert {\n",
              "      background-color: #3B4455;\n",
              "      fill: #D2E3FC;\n",
              "    }\n",
              "\n",
              "    [theme=dark] .colab-df-convert:hover {\n",
              "      background-color: #434B5C;\n",
              "      box-shadow: 0px 1px 3px 1px rgba(0, 0, 0, 0.15);\n",
              "      filter: drop-shadow(0px 1px 2px rgba(0, 0, 0, 0.3));\n",
              "      fill: #FFFFFF;\n",
              "    }\n",
              "  </style>\n",
              "\n",
              "      <script>\n",
              "        const buttonEl =\n",
              "          document.querySelector('#df-97acc67d-11e7-4ff2-b7ce-ce8c6549d76c button.colab-df-convert');\n",
              "        buttonEl.style.display =\n",
              "          google.colab.kernel.accessAllowed ? 'block' : 'none';\n",
              "\n",
              "        async function convertToInteractive(key) {\n",
              "          const element = document.querySelector('#df-97acc67d-11e7-4ff2-b7ce-ce8c6549d76c');\n",
              "          const dataTable =\n",
              "            await google.colab.kernel.invokeFunction('convertToInteractive',\n",
              "                                                     [key], {});\n",
              "          if (!dataTable) return;\n",
              "\n",
              "          const docLinkHtml = 'Like what you see? Visit the ' +\n",
              "            '<a target=\"_blank\" href=https://colab.research.google.com/notebooks/data_table.ipynb>data table notebook</a>'\n",
              "            + ' to learn more about interactive tables.';\n",
              "          element.innerHTML = '';\n",
              "          dataTable['output_type'] = 'display_data';\n",
              "          await google.colab.output.renderOutput(dataTable, element);\n",
              "          const docLink = document.createElement('div');\n",
              "          docLink.innerHTML = docLinkHtml;\n",
              "          element.appendChild(docLink);\n",
              "        }\n",
              "      </script>\n",
              "    </div>\n",
              "  </div>\n",
              "  "
            ]
          },
          "metadata": {},
          "execution_count": 8
        }
      ]
    },
    {
      "cell_type": "code",
      "source": [
        "stasiun_gdf.plot()"
      ],
      "metadata": {
        "colab": {
          "base_uri": "https://localhost:8080/",
          "height": 282
        },
        "id": "6HgY3aQj5t8P",
        "outputId": "91f54610-adcb-40ae-992a-dff1fe2ad0af"
      },
      "execution_count": 9,
      "outputs": [
        {
          "output_type": "execute_result",
          "data": {
            "text/plain": [
              "<matplotlib.axes._subplots.AxesSubplot at 0x7ff547594550>"
            ]
          },
          "metadata": {},
          "execution_count": 9
        },
        {
          "output_type": "display_data",
          "data": {
            "text/plain": [
              "<Figure size 432x288 with 1 Axes>"
            ],
            "image/png": "[encoded data removed]"
          },
          "metadata": {
            "needs_background": "light"
          }
        }
      ]
    },
    {
      "cell_type": "markdown",
      "source": [
        "# **Get The x,y Values with iteration from Geometry Column**"
      ],
      "metadata": {
        "id": "MQL6VMUjDh27"
      }
    },
    {
      "cell_type": "code",
      "source": [
        "for index,row in stasiun_gdf.iterrows():\n",
        "  print('Row ', index, '\\n', row, '\\n')"
      ],
      "metadata": {
        "colab": {
          "base_uri": "https://localhost:8080/"
        },
        "id": "KeM4iVHS6JR5",
        "outputId": "02d4eaf2-3b70-4059-c4d6-62fb8b2b6ed0"
      },
      "execution_count": 20,
      "outputs": [
        {
          "output_type": "stream",
          "name": "stdout",
          "text": [
            "Row  0 \n",
            " Id                                                    0\n",
            "name                                           station1\n",
            "geometry    POINT (116.6601216379696 6.201023003794654)\n",
            "Name: 0, dtype: object \n",
            "\n",
            "Row  1 \n",
            " Id                                                     0\n",
            "name                                            station2\n",
            "geometry    POINT (116.86285171566632 6.109651701170772)\n",
            "Name: 1, dtype: object \n",
            "\n",
            "Row  2 \n",
            " Id                                                     0\n",
            "name                                            station3\n",
            "geometry    POINT (117.12411653410649 6.128211497016248)\n",
            "Name: 2, dtype: object \n",
            "\n",
            "Row  3 \n",
            " Id                                                     0\n",
            "name                                            station4\n",
            "geometry    POINT (117.29115469671578 6.305243395850018)\n",
            "Name: 3, dtype: object \n",
            "\n",
            "Row  4 \n",
            " Id                                                     0\n",
            "name                                            station5\n",
            "geometry    POINT (116.91995877980625 6.356639753575951)\n",
            "Name: 4, dtype: object \n",
            "\n",
            "Row  5 \n",
            " Id                                                     0\n",
            "name                                            station6\n",
            "geometry    POINT (117.0384559378966 6.5151118565642445)\n",
            "Name: 5, dtype: object \n",
            "\n",
            "Row  6 \n",
            " Id                                                    0\n",
            "name                                           station7\n",
            "geometry    POINT (116.85285797944185 6.64931345729307)\n",
            "Name: 6, dtype: object \n",
            "\n",
            "Row  7 \n",
            " Id                                                      0\n",
            "name                                             station8\n",
            "geometry    POINT (116.68867517003956 6.6364643678615876)\n",
            "Name: 7, dtype: object \n",
            "\n",
            "Row  8 \n",
            " Id                                                     0\n",
            "name                                            station9\n",
            "geometry    POINT (117.28544399030179 6.580784980325159)\n",
            "Name: 8, dtype: object \n",
            "\n"
          ]
        }
      ]
    },
    {
      "cell_type": "code",
      "source": [
        "#list of name station with iteration\n",
        "for index,row in stasiun_gdf.iterrows():\n",
        "  print(row['name'])"
      ],
      "metadata": {
        "colab": {
          "base_uri": "https://localhost:8080/"
        },
        "id": "ark_LpIC7VkI",
        "outputId": "3be67c53-1170-4ac1-a686-da10bf2f476e"
      },
      "execution_count": 21,
      "outputs": [
        {
          "output_type": "stream",
          "name": "stdout",
          "text": [
            "station1\n",
            "station2\n",
            "station3\n",
            "station4\n",
            "station5\n",
            "station6\n",
            "station7\n",
            "station8\n",
            "station9\n"
          ]
        }
      ]
    },
    {
      "cell_type": "code",
      "source": [
        "row['geometry'] #will show the last point of iteration"
      ],
      "metadata": {
        "colab": {
          "base_uri": "https://localhost:8080/",
          "height": 121
        },
        "id": "7iF5W45T71tA",
        "outputId": "8c84bd76-8cbe-4e35-c915-f4f3b758c0e1"
      },
      "execution_count": 22,
      "outputs": [
        {
          "output_type": "execute_result",
          "data": {
            "text/plain": [
              "<shapely.geometry.point.Point at 0x7ff547848610>"
            ],
            "image/svg+xml": "<svg xmlns=\"http://www.w3.org/2000/svg\" xmlns:xlink=\"http://www.w3.org/1999/xlink\" width=\"100.0\" height=\"100.0\" viewBox=\"116.28544399030179 5.580784980325159 2.0 2.0\" preserveAspectRatio=\"xMinYMin meet\"><g transform=\"matrix(1,0,0,-1,0,13.161569960650318)\"><circle cx=\"117.28544399030179\" cy=\"6.580784980325159\" r=\"0.06\" stroke=\"#555555\" stroke-width=\"0.02\" fill=\"#66cc99\" opacity=\"0.6\" /></g></svg>"
          },
          "metadata": {},
          "execution_count": 22
        }
      ]
    },
    {
      "cell_type": "code",
      "source": [
        "#Extract the exact coordinates of geometry\n",
        "print('x = ', row['geometry'].x)\n",
        "print('y = ', row['geometry'].y)"
      ],
      "metadata": {
        "colab": {
          "base_uri": "https://localhost:8080/"
        },
        "id": "hKjHqUvR8Dh3",
        "outputId": "ee497425-dc9d-433e-f2d3-3d35f8bee445"
      },
      "execution_count": 24,
      "outputs": [
        {
          "output_type": "stream",
          "name": "stdout",
          "text": [
            "x =  117.28544399030179\n",
            "y =  6.580784980325159\n"
          ]
        }
      ]
    },
    {
      "cell_type": "code",
      "source": [
        "#Extract attributes from the station shapefiles\n",
        "for index,row in stasiun_gdf.iterrows():\n",
        "  name = row['name']\n",
        "  longitude = row['geometry'].x\n",
        "  latitude = row['geometry'].y\n",
        "  print(name, ' = ', '(', longitude, ', ', latitude, ')')"
      ],
      "metadata": {
        "colab": {
          "base_uri": "https://localhost:8080/"
        },
        "id": "qjzoSOf18c49",
        "outputId": "860eff1b-0340-47c4-8c4a-17a4ed87117a"
      },
      "execution_count": 26,
      "outputs": [
        {
          "output_type": "stream",
          "name": "stdout",
          "text": [
            "station1  =  ( 116.6601216379696 ,  6.201023003794654 )\n",
            "station2  =  ( 116.86285171566632 ,  6.109651701170772 )\n",
            "station3  =  ( 117.12411653410649 ,  6.128211497016248 )\n",
            "station4  =  ( 117.29115469671578 ,  6.305243395850018 )\n",
            "station5  =  ( 116.91995877980625 ,  6.356639753575951 )\n",
            "station6  =  ( 117.0384559378966 ,  6.5151118565642445 )\n",
            "station7  =  ( 116.85285797944185 ,  6.64931345729307 )\n",
            "station8  =  ( 116.68867517003956 ,  6.6364643678615876 )\n",
            "station9  =  ( 117.28544399030179 ,  6.580784980325159 )\n"
          ]
        }
      ]
    },
    {
      "cell_type": "markdown",
      "source": [
        "# **Extract The Specific DEM Elevation Values to Each Station**"
      ],
      "metadata": {
        "id": "usVz82XfDtYT"
      }
    },
    {
      "cell_type": "code",
      "source": [
        "#Extract the specific dem elevation values to each station\n",
        "import rasterio\n",
        "\n",
        "for index,row in stasiun_gdf.iterrows():\n",
        "  name = row['name']\n",
        "  longitude = row['geometry'].x\n",
        "  latitude = row['geometry'].y\n",
        "  print(name, ' = ', '(', longitude, ', ', latitude, ')')\n",
        "  \n",
        "  #Reading the DEM using Rasterio\n",
        "  dem = rasterio.open('/tmp/Extract_DEM/Extract elevation from a DEM/DEM.tif')\n",
        "  row, col = dem.index(longitude, latitude)\n",
        "  dem_data = dem.read(1)\n",
        "\n",
        "  print('the elevation of ' + name, ': ' + str(dem_data[row, col]) + ' meters\\n')"
      ],
      "metadata": {
        "colab": {
          "base_uri": "https://localhost:8080/"
        },
        "id": "o18PTzMf9O-l",
        "outputId": "cf8273c8-4929-47ff-b288-7e72cf340b4c"
      },
      "execution_count": 33,
      "outputs": [
        {
          "output_type": "stream",
          "name": "stdout",
          "text": [
            "station1  =  ( 116.6601216379696 ,  6.201023003794654 )\n",
            "the elevation of station1 : 2570 meters\n",
            "\n",
            "station2  =  ( 116.86285171566632 ,  6.109651701170772 )\n",
            "the elevation of station2 : 204 meters\n",
            "\n",
            "station3  =  ( 117.12411653410649 ,  6.128211497016248 )\n",
            "the elevation of station3 : 191 meters\n",
            "\n",
            "station4  =  ( 117.29115469671578 ,  6.305243395850018 )\n",
            "the elevation of station4 : 117 meters\n",
            "\n",
            "station5  =  ( 116.91995877980625 ,  6.356639753575951 )\n",
            "the elevation of station5 : 774 meters\n",
            "\n",
            "station6  =  ( 117.0384559378966 ,  6.5151118565642445 )\n",
            "the elevation of station6 : 291 meters\n",
            "\n",
            "station7  =  ( 116.85285797944185 ,  6.64931345729307 )\n",
            "the elevation of station7 : 49 meters\n",
            "\n",
            "station8  =  ( 116.68867517003956 ,  6.6364643678615876 )\n",
            "the elevation of station8 : 399 meters\n",
            "\n",
            "station9  =  ( 117.28544399030179 ,  6.580784980325159 )\n",
            "the elevation of station9 : 82 meters\n",
            "\n"
          ]
        }
      ]
    },
    {
      "cell_type": "markdown",
      "source": [
        "# **Add Elevation Column and Record DEM Elevation Value Into GeoDataFrame**"
      ],
      "metadata": {
        "id": "Oc_Y8qVVD2WN"
      }
    },
    {
      "cell_type": "code",
      "source": [
        "#Add Elevation column and Record DEM elevation values into GeoDataFrame\n",
        "\n",
        "#Create empty column\n",
        "stasiun_gdf['elevation'] = 0\n",
        "\n",
        "#Extract the specific dem elevation values to each station\n",
        "import rasterio\n",
        "\n",
        "for index,row in stasiun_gdf.iterrows():\n",
        "  name = row['name']\n",
        "  longitude = row['geometry'].x\n",
        "  latitude = row['geometry'].y\n",
        "  print(name, ' = ', '(', longitude, ', ', latitude, ')')\n",
        "  \n",
        "  #Reading the DEM using Rasterio\n",
        "  dem = rasterio.open('/tmp/Extract_DEM/Extract elevation from a DEM/DEM.tif')\n",
        "  row, col = dem.index(longitude, latitude)\n",
        "  dem_data = dem.read(1)\n",
        "\n",
        "  print('the elevation of ' + name, ': ' + str(dem_data[row, col]) + ' meters\\n')\n",
        "\n",
        "  #Record elevation values to elevation column on 'stasiun' DataFrame\n",
        "  stasiun_gdf['elevation'].loc[index] = dem_data[row,col]"
      ],
      "metadata": {
        "colab": {
          "base_uri": "https://localhost:8080/"
        },
        "id": "yU7sWCC-BsvU",
        "outputId": "458c4523-e3f5-403e-cd71-ff08108d41ff"
      },
      "execution_count": 34,
      "outputs": [
        {
          "output_type": "stream",
          "name": "stdout",
          "text": [
            "station1  =  ( 116.6601216379696 ,  6.201023003794654 )\n",
            "the elevation of station1 : 2570 meters\n",
            "\n",
            "station2  =  ( 116.86285171566632 ,  6.109651701170772 )\n",
            "the elevation of station2 "
          ]
        },
        {
          "output_type": "stream",
          "name": "stderr",
          "text": [
            "/usr/local/lib/python3.7/dist-packages/pandas/core/indexing.py:1732: SettingWithCopyWarning: \n",
            "A value is trying to be set on a copy of a slice from a DataFrame\n",
            "\n",
            "See the caveats in the documentation: https://pandas.pydata.org/pandas-docs/stable/user_guide/indexing.html#returning-a-view-versus-a-copy\n",
            "  self._setitem_single_block(indexer, value, name)\n"
          ]
        },
        {
          "output_type": "stream",
          "name": "stdout",
          "text": [
            ": 204 meters\n",
            "\n",
            "station3  =  ( 117.12411653410649 ,  6.128211497016248 )\n",
            "the elevation of station3 : 191 meters\n",
            "\n",
            "station4  =  ( 117.29115469671578 ,  6.305243395850018 )\n",
            "the elevation of station4 : 117 meters\n",
            "\n",
            "station5  =  ( 116.91995877980625 ,  6.356639753575951 )\n",
            "the elevation of station5 : 774 meters\n",
            "\n",
            "station6  =  ( 117.0384559378966 ,  6.5151118565642445 )\n",
            "the elevation of station6 : 291 meters\n",
            "\n",
            "station7  =  ( 116.85285797944185 ,  6.64931345729307 )\n",
            "the elevation of station7 : 49 meters\n",
            "\n",
            "station8  =  ( 116.68867517003956 ,  6.6364643678615876 )\n",
            "the elevation of station8 : 399 meters\n",
            "\n",
            "station9  =  ( 117.28544399030179 ,  6.580784980325159 )\n",
            "the elevation of station9 : 82 meters\n",
            "\n"
          ]
        }
      ]
    },
    {
      "cell_type": "code",
      "source": [
        "stasiun_gdf.head()"
      ],
      "metadata": {
        "colab": {
          "base_uri": "https://localhost:8080/",
          "height": 206
        },
        "id": "IIZoa7LcCwCy",
        "outputId": "f247472a-5e72-490a-db99-4c37a6d2a12b"
      },
      "execution_count": 36,
      "outputs": [
        {
          "output_type": "execute_result",
          "data": {
            "text/plain": [
              "   Id      name                   geometry  elevation\n",
              "0   0  station1  POINT (116.66012 6.20102)       2570\n",
              "1   0  station2  POINT (116.86285 6.10965)        204\n",
              "2   0  station3  POINT (117.12412 6.12821)        191\n",
              "3   0  station4  POINT (117.29115 6.30524)        117\n",
              "4   0  station5  POINT (116.91996 6.35664)        774"
            ],
            "text/html": [
              "\n",
              "  <div id=\"df-446ca297-fd06-4a4f-a7f1-7316237c173c\">\n",
              "    <div class=\"colab-df-container\">\n",
              "      <div>\n",
              "<style scoped>\n",
              "    .dataframe tbody tr th:only-of-type {\n",
              "        vertical-align: middle;\n",
              "    }\n",
              "\n",
              "    .dataframe tbody tr th {\n",
              "        vertical-align: top;\n",
              "    }\n",
              "\n",
              "    .dataframe thead th {\n",
              "        text-align: right;\n",
              "    }\n",
              "</style>\n",
              "<table border=\"1\" class=\"dataframe\">\n",
              "  <thead>\n",
              "    <tr style=\"text-align: right;\">\n",
              "      <th></th>\n",
              "      <th>Id</th>\n",
              "      <th>name</th>\n",
              "      <th>geometry</th>\n",
              "      <th>elevation</th>\n",
              "    </tr>\n",
              "  </thead>\n",
              "  <tbody>\n",
              "    <tr>\n",
              "      <th>0</th>\n",
              "      <td>0</td>\n",
              "      <td>station1</td>\n",
              "      <td>POINT (116.66012 6.20102)</td>\n",
              "      <td>2570</td>\n",
              "    </tr>\n",
              "    <tr>\n",
              "      <th>1</th>\n",
              "      <td>0</td>\n",
              "      <td>station2</td>\n",
              "      <td>POINT (116.86285 6.10965)</td>\n",
              "      <td>204</td>\n",
              "    </tr>\n",
              "    <tr>\n",
              "      <th>2</th>\n",
              "      <td>0</td>\n",
              "      <td>station3</td>\n",
              "      <td>POINT (117.12412 6.12821)</td>\n",
              "      <td>191</td>\n",
              "    </tr>\n",
              "    <tr>\n",
              "      <th>3</th>\n",
              "      <td>0</td>\n",
              "      <td>station4</td>\n",
              "      <td>POINT (117.29115 6.30524)</td>\n",
              "      <td>117</td>\n",
              "    </tr>\n",
              "    <tr>\n",
              "      <th>4</th>\n",
              "      <td>0</td>\n",
              "      <td>station5</td>\n",
              "      <td>POINT (116.91996 6.35664)</td>\n",
              "      <td>774</td>\n",
              "    </tr>\n",
              "  </tbody>\n",
              "</table>\n",
              "</div>\n",
              "      <button class=\"colab-df-convert\" onclick=\"convertToInteractive('df-446ca297-fd06-4a4f-a7f1-7316237c173c')\"\n",
              "              title=\"Convert this dataframe to an interactive table.\"\n",
              "              style=\"display:none;\">\n",
              "        \n",
              "  <svg xmlns=\"http://www.w3.org/2000/svg\" height=\"24px\"viewBox=\"0 0 24 24\"\n",
              "       width=\"24px\">\n",
              "    <path d=\"M0 0h24v24H0V0z\" fill=\"none\"/>\n",
              "    <path d=\"M18.56 5.44l.94 2.06.94-2.06 2.06-.94-2.06-.94-.94-2.06-.94 2.06-2.06.94zm-11 1L8.5 8.5l.94-2.06 2.06-.94-2.06-.94L8.5 2.5l-.94 2.06-2.06.94zm10 10l.94 2.06.94-2.06 2.06-.94-2.06-.94-.94-2.06-.94 2.06-2.06.94z\"/><path d=\"M17.41 7.96l-1.37-1.37c-.4-.4-.92-.59-1.43-.59-.52 0-1.04.2-1.43.59L10.3 9.45l-7.72 7.72c-.78.78-.78 2.05 0 2.83L4 21.41c.39.39.9.59 1.41.59.51 0 1.02-.2 1.41-.59l7.78-7.78 2.81-2.81c.8-.78.8-2.07 0-2.86zM5.41 20L4 18.59l7.72-7.72 1.47 1.35L5.41 20z\"/>\n",
              "  </svg>\n",
              "      </button>\n",
              "      \n",
              "  <style>\n",
              "    .colab-df-container {\n",
              "      display:flex;\n",
              "      flex-wrap:wrap;\n",
              "      gap: 12px;\n",
              "    }\n",
              "\n",
              "    .colab-df-convert {\n",
              "      background-color: #E8F0FE;\n",
              "      border: none;\n",
              "      border-radius: 50%;\n",
              "      cursor: pointer;\n",
              "      display: none;\n",
              "      fill: #1967D2;\n",
              "      height: 32px;\n",
              "      padding: 0 0 0 0;\n",
              "      width: 32px;\n",
              "    }\n",
              "\n",
              "    .colab-df-convert:hover {\n",
              "      background-color: #E2EBFA;\n",
              "      box-shadow: 0px 1px 2px rgba(60, 64, 67, 0.3), 0px 1px 3px 1px rgba(60, 64, 67, 0.15);\n",
              "      fill: #174EA6;\n",
              "    }\n",
              "\n",
              "    [theme=dark] .colab-df-convert {\n",
              "      background-color: #3B4455;\n",
              "      fill: #D2E3FC;\n",
              "    }\n",
              "\n",
              "    [theme=dark] .colab-df-convert:hover {\n",
              "      background-color: #434B5C;\n",
              "      box-shadow: 0px 1px 3px 1px rgba(0, 0, 0, 0.15);\n",
              "      filter: drop-shadow(0px 1px 2px rgba(0, 0, 0, 0.3));\n",
              "      fill: #FFFFFF;\n",
              "    }\n",
              "  </style>\n",
              "\n",
              "      <script>\n",
              "        const buttonEl =\n",
              "          document.querySelector('#df-446ca297-fd06-4a4f-a7f1-7316237c173c button.colab-df-convert');\n",
              "        buttonEl.style.display =\n",
              "          google.colab.kernel.accessAllowed ? 'block' : 'none';\n",
              "\n",
              "        async function convertToInteractive(key) {\n",
              "          const element = document.querySelector('#df-446ca297-fd06-4a4f-a7f1-7316237c173c');\n",
              "          const dataTable =\n",
              "            await google.colab.kernel.invokeFunction('convertToInteractive',\n",
              "                                                     [key], {});\n",
              "          if (!dataTable) return;\n",
              "\n",
              "          const docLinkHtml = 'Like what you see? Visit the ' +\n",
              "            '<a target=\"_blank\" href=https://colab.research.google.com/notebooks/data_table.ipynb>data table notebook</a>'\n",
              "            + ' to learn more about interactive tables.';\n",
              "          element.innerHTML = '';\n",
              "          dataTable['output_type'] = 'display_data';\n",
              "          await google.colab.output.renderOutput(dataTable, element);\n",
              "          const docLink = document.createElement('div');\n",
              "          docLink.innerHTML = docLinkHtml;\n",
              "          element.appendChild(docLink);\n",
              "        }\n",
              "      </script>\n",
              "    </div>\n",
              "  </div>\n",
              "  "
            ]
          },
          "metadata": {},
          "execution_count": 36
        }
      ]
    }
  ]
}